{
 "cells": [
  {
   "cell_type": "code",
   "execution_count": 248,
   "metadata": {},
   "outputs": [],
   "source": [
    "# import required libraries \n",
    "import numpy as np\n",
    "import random\n",
    "import matplotlib.pyplot as plt"
   ]
  },
  {
   "cell_type": "code",
   "execution_count": 237,
   "metadata": {},
   "outputs": [],
   "source": [
    "# Making the Graph  \n",
    "# The user can choose whether to use the default 10 x 10 matrix or enter a fresh one \n",
    "# Takes parameter 'new' which is taken as input from the user \n",
    "# 'new' is zero by default\n",
    "# Returns the graph and number of vertices \n",
    "def graph_input(new=0,size=50):\n",
    "    if new==0:\n",
    "        Graph_matrix=[]\n",
    "        Graph_matrix.append([ -1., 467., 974.,  12., 978., 987., 978., 876., 123., 145.])\n",
    "        Graph_matrix.append( [467. , -1. ,356.  ,97. ,345. ,234. ,532., 567., 987. ,759.])            \n",
    "        Graph_matrix.append([974. ,356. , -1. ,567. ,876. ,987. ,789. ,234. ,345. ,478.])             \n",
    "        Graph_matrix.append([ 12. , 97. ,567. , -1. ,678. ,754.  ,54. ,876.  ,76. ,489.])             \n",
    "        Graph_matrix.append([978. ,345. ,876. ,678. , -1. ,123. ,987. , 65. ,756. ,458.])             \n",
    "        Graph_matrix.append([987. ,234. ,987. ,754. ,123. , -1. , 34. ,987. ,946. ,787.]) \n",
    "        Graph_matrix.append([978. ,532. ,789. , 54. ,987. , 34. , -1. ,456. ,386. ,864.])\n",
    "        Graph_matrix.append([876. ,567. ,234. ,876. , 65. ,987. ,456. , -1. ,487. ,456.]) \n",
    "        Graph_matrix.append([123. ,987. ,345. , 76. ,756. ,946. ,386. ,487. , -1. ,986.]) \n",
    "        Graph_matrix.append([145. ,759. ,478. ,489. ,458. ,787. ,864. ,456. ,986. , -1.])          \n",
    "        vertices=10\n",
    "        return np.asarray(Graph_matrix),vertices\n",
    "    if new==1:\n",
    "        return np.random.randint(100,size=(size,size))*10,size\n",
    "    vertices = int(input(\"Enter the Number of cities \"))\n",
    "    Graph_matrix=np.ones((vertices,vertices)) *-1\n",
    "    for i in range(vertices):\n",
    "        for j in range(i):\n",
    "            print(\"Enter the Distance Between \"+ str(i+1) +\" and \" + str(j+1)+ \"(-1 if no connections between them ) :\")\n",
    "            Graph_matrix[i][j]=int(input())\n",
    "            Graph_matrix[j][i]=Graph_matrix[i][j]\n",
    "    return Graph_matrix,vertices    "
   ]
  },
  {
   "cell_type": "markdown",
   "metadata": {},
   "source": []
  },
  {
   "cell_type": "code",
   "execution_count": 32,
   "metadata": {},
   "outputs": [],
   "source": [
    "# Create Random solutions as the starting population \n",
    "# Takes the number of starting popoulaion and number of vertices to generate samplr population\n",
    "# Returns the population as a numpy 2d array\n",
    "def create_population(population_no,vertices):\n",
    "    x=[i for i in range(vertices)]\n",
    "    population=[]\n",
    "    for i in range(population_no):\n",
    "        a=random.sample(x,vertices)\n",
    "        population.append(a)\n",
    "    return np.asarray(population)    "
   ]
  },
  {
   "cell_type": "code",
   "execution_count": 173,
   "metadata": {},
   "outputs": [],
   "source": [
    "# Evaluates the fitness values for every person in population\n",
    "# Initially the max value of distance is calculated by taking the max value in the graph and multiplying it with \n",
    "# number of travels , this value is guaranteed to be greater than any possible path \n",
    "# Then , the total disance in each path is calculated \n",
    "# Fitness function is max_distance - calculated distance \n",
    "# Returns fitness values \n",
    "def fitness_value(population,Graph_matrix):\n",
    "    vertices=Graph_matrix.shape[0]\n",
    "    population_no=population.shape[0]\n",
    "    max_fitness=np.max(Graph_matrix)*(vertices-1)\n",
    "    fitness_values=[0 for i in range(population_no)]\n",
    "    for i in range(population_no):\n",
    "        curr_pop = population[i]\n",
    "        for j in range(vertices-1):\n",
    "            if(Graph_matrix[curr_pop[j]][curr_pop[j+1]]==-1):\n",
    "                fitness_values[i]=9999\n",
    "                break\n",
    "            else:\n",
    "                fitness_values[i]+=Graph_matrix[curr_pop[j]][curr_pop[j+1]]\n",
    "        #print(fitness_values[i])\n",
    "        fitness_values[i]=(1/fitness_values[i])*max_fitness\n",
    "    return fitness_values      "
   ]
  },
  {
   "cell_type": "code",
   "execution_count": 174,
   "metadata": {},
   "outputs": [
    {
     "name": "stdout",
     "output_type": "stream",
     "text": [
      "[[ -1. 467. 974.  12. 978. 987. 978. 876. 123. 145.]\n",
      " [467.  -1. 356.  97. 345. 234. 532. 567. 987. 759.]\n",
      " [974. 356.  -1. 567. 876. 987. 789. 234. 345. 478.]\n",
      " [ 12.  97. 567.  -1. 678. 754.  54. 876.  76. 489.]\n",
      " [978. 345. 876. 678.  -1. 123. 987.  65. 756. 458.]\n",
      " [987. 234. 987. 754. 123.  -1.  34. 987. 946. 787.]\n",
      " [978. 532. 789.  54. 987.  34.  -1. 456. 386. 864.]\n",
      " [876. 567. 234. 876.  65. 987. 456.  -1. 487. 456.]\n",
      " [123. 987. 345.  76. 756. 946. 386. 487.  -1. 986.]\n",
      " [145. 759. 478. 489. 458. 787. 864. 456. 986.  -1.]]\n"
     ]
    },
    {
     "data": {
      "text/plain": [
       "[1.5197604790419164,\n",
       " 1.7282101167315176,\n",
       " 2.035984414393766,\n",
       " 1.4026527711984842,\n",
       " 2.601933216168717,\n",
       " 2.229668674698795,\n",
       " 1.3687211093990757,\n",
       " 2.097520661157025,\n",
       " 1.8724704890387858,\n",
       " 1.7705800279051227]"
      ]
     },
     "execution_count": 174,
     "metadata": {},
     "output_type": "execute_result"
    }
   ],
   "source": [
    "graph,v=graph_input()\n",
    "print(graph)\n",
    "population=create_population(10,v)\n",
    "fitness_value(population,graph)"
   ]
  },
  {
   "cell_type": "code",
   "execution_count": 131,
   "metadata": {},
   "outputs": [
    {
     "name": "stdout",
     "output_type": "stream",
     "text": [
      "[4, 2, 6, 7, 3]\n"
     ]
    },
    {
     "data": {
      "text/plain": [
       "[[4, 7], [2, 6], [3, 7], [2, 3], [2, 4]]"
      ]
     },
     "execution_count": 131,
     "metadata": {},
     "output_type": "execute_result"
    }
   ],
   "source": [
    "par=select_parents(population,graph)\n",
    "print(par)\n",
    "make_random_pairs(par,len(par))"
   ]
  },
  {
   "cell_type": "code",
   "execution_count": 47,
   "metadata": {},
   "outputs": [],
   "source": [
    "# Calcuates the probability of selection of each person for mating\n",
    "# Takes population matrix and Graph matrix as inputs \n",
    "# Probability is found bt calculating the sum of fitness values and dividing each fitness value with it \n",
    "# Returns the probaility\n",
    "def probs(population,Graph_matrix):\n",
    "    population_no=population.shape[0]\n",
    "    fitness_values=fitness_value(population=population,Graph_matrix=Graph_matrix)\n",
    "    pop_sum=np.sum(fitness_values)\n",
    "    prob=fitness_values/pop_sum\n",
    "    return prob"
   ]
  },
  {
   "cell_type": "code",
   "execution_count": 84,
   "metadata": {},
   "outputs": [],
   "source": [
    "# Picks a random index based on its probaility of selection \n",
    "# This demonstrates Roulette selection \n",
    "# Works by taking the sum and partitioning the number line according to the cummulative sum at each point .\n",
    "# A random number is chosen from 0 to sum and the corresponing partition the random number belongs to is returned\n",
    "# as the pick \n",
    "# Retturns the index of the selected parent \n",
    "def weighted_random(probs):\n",
    "    max_ =np.sum(probs)\n",
    "    pick = random.uniform(0,max_)\n",
    "    curr=0\n",
    "    for i,pr in enumerate(probs):\n",
    "        curr+=pr\n",
    "        if curr> pick :\n",
    "            return i"
   ]
  },
  {
   "cell_type": "code",
   "execution_count": 243,
   "metadata": {},
   "outputs": [],
   "source": [
    "# Selects parents for crossover  \n",
    "# Takes the population and the graph matrix as inputs\n",
    "# Selects n/2 parents using weighted_random\n",
    "# Returns a list of selected parents \n",
    "def select_parents(population,Graph_matrix):\n",
    "    population_no=population.shape[0]\n",
    "    prob =probs(population,Graph_matrix)\n",
    "    no_of_parents=population_no//2\n",
    "    parents=[]\n",
    "    \n",
    "    while(no_of_parents>0):\n",
    "        parent=weighted_random(prob**3)\n",
    "        if(parent not in parents):\n",
    "            parents.append(parent)\n",
    "            no_of_parents-=1\n",
    "    return parents        "
   ]
  },
  {
   "cell_type": "code",
   "execution_count": 147,
   "metadata": {},
   "outputs": [],
   "source": [
    "# Makes random pairs for crossover \n",
    "# Uses random.sample to generate random pairs \n",
    "# Returns a list of selected pairs as tuples \n",
    "def make_random_pairs(parents,no_of_pairs):\n",
    "    pairs=[]\n",
    "    while(no_of_pairs>0):\n",
    "        curr_pair=tuple(random.sample(parents,2))\n",
    "        curr_pair=sorted(curr_pair)\n",
    "        if curr_pair not in pairs:\n",
    "            pairs.append(curr_pair)\n",
    "            no_of_pairs-=1\n",
    "    return pairs    \n",
    "    "
   ]
  },
  {
   "cell_type": "code",
   "execution_count": 196,
   "metadata": {},
   "outputs": [],
   "source": [
    "# Applies crossover on two parents to generate 2 children \n",
    "# Uses the PMX crossover algorithm \n",
    "# Returns the generated children\n",
    "def cxPartialyMatched(ind1,ind2):\n",
    "    \"\"\"Executes a partially matched crossover (PMX) on the input individuals.\n",
    "    The two individuals are modified in place. This crossover expects\n",
    "    :term:`sequence` individuals of indices, the result for any other type of\n",
    "    individuals is unpredictable.\n",
    "    :param ind1: The first individual participating in the crossover.\n",
    "    :param ind2: The second individual participating in the crossover.\n",
    "    :returns: A tuple of two individuals.\n",
    "    Moreover, this crossover generates two children by matching\n",
    "    pairs of values in a certain range of the two parents and swapping the values\n",
    "    of those indexes. For more details see [Goldberg1985]_.\n",
    "    This function uses the :func:`~random.randint` function from the python base\n",
    "    :mod:`random` module.\n",
    "    .. [Goldberg1985] Goldberg and Lingel, \"Alleles, loci, and the traveling\n",
    "       salesman problem\", 1985.\n",
    "    \"\"\"\n",
    "    \n",
    "    size = ind1.shape[0]\n",
    "    p1, p2 = [0] * size, [0] * size\n",
    "\n",
    "    # Initialize the position of each indices in the individuals\n",
    "    for i in range(size):\n",
    "        p1[ind1[i]] = i\n",
    "        p2[ind2[i]] = i\n",
    "    # Choose crossover points\n",
    "    cxpoint1 = random.randint(0, size)\n",
    "    cxpoint2 = random.randint(0, size - 1)\n",
    "    if cxpoint2 >= cxpoint1:\n",
    "        cxpoint2 += 1\n",
    "    else:  \n",
    "        # Swap the two cx points\n",
    "        cxpoint1, cxpoint2 = cxpoint2, cxpoint1\n",
    "\n",
    "    # Apply crossover between cx points\n",
    "    for i in range(cxpoint1, cxpoint2):\n",
    "        # Keep track of the selected values\n",
    "        temp1 = ind1[i]\n",
    "        temp2 = ind2[i]\n",
    "        # Swap the matched value\n",
    "        ind1[i], ind1[p1[temp2]] = temp2, temp1\n",
    "        ind2[i], ind2[p2[temp1]] = temp1, temp2\n",
    "        # Position bookkeeping\n",
    "        p1[temp1], p1[temp2] = p1[temp2], p1[temp1]\n",
    "        p2[temp1], p2[temp2] = p2[temp2], p2[temp1]\n",
    "\n",
    "    return ind1"
   ]
  },
  {
   "cell_type": "code",
   "execution_count": 90,
   "metadata": {},
   "outputs": [],
   "source": [
    "# Applies mutation on the offspring\n",
    "# Takes a list of offsprings as input \n",
    "# There is a 0.5% chance of mutation for each offspring\n",
    "# Returns Mutated offsprings \n",
    "def mutation(offsprings):\n",
    "    n=offsprings.shape[1]\n",
    "    for offspring in offsprings:\n",
    "        chance = random.uniform(0,100)\n",
    "        if chance > 99.5:\n",
    "            random_number1 = random.randrange(n)\n",
    "            random_number2 = random.randrange(n)\n",
    "            offspring[random_number1],offspring[random_number2]=offspring[random_number2],offspring[random_number1]\n",
    "       # print(random_number,offspring)\n",
    "    return offsprings    "
   ]
  },
  {
   "cell_type": "code",
   "execution_count": 91,
   "metadata": {},
   "outputs": [],
   "source": [
    "# Find the highest fitness value in the population \n",
    "# Takes the population and the graph_matrix as inputs \n",
    "# Returns the Best fitness value and its corresponding index\n",
    "def max_fitness(population,Graph_matrix):\n",
    "    return np.max(fitness_value(population,Graph_matrix)),np.argmax(fitness_value(population,Graph_matrix))"
   ]
  },
  {
   "cell_type": "code",
   "execution_count": 177,
   "metadata": {},
   "outputs": [],
   "source": [
    "# Applies crossover on two parents to generate 2 children \n",
    "# Uses the OX crossover algorithm \n",
    "# Returns the generated children\n",
    "def breed(parent1, parent2):\n",
    "    child = []\n",
    "    childP1 = []\n",
    "    childP2 = []\n",
    "    \n",
    "    geneA = int(random.random() * len(parent1))\n",
    "    geneB = int(random.random() * len(parent1))\n",
    "    \n",
    "    startGene = min(geneA, geneB)\n",
    "    endGene = max(geneA, geneB)\n",
    "\n",
    "    for i in range(startGene, endGene):\n",
    "        childP1.append(parent1[i])\n",
    "        \n",
    "    childP2 = [item for item in parent2 if item not in childP1]\n",
    "\n",
    "    child = childP1 + childP2\n",
    "    return child"
   ]
  },
  {
   "cell_type": "code",
   "execution_count": 215,
   "metadata": {},
   "outputs": [],
   "source": [
    "# Function to Select Which Crossover to use \n",
    "# Returns the child list\n",
    "def crossover(p1,p2,typ=\"OX\"):\n",
    "    if typ==\"OX\":\n",
    "        return breed(p1,p2)\n",
    "    else :\n",
    "        return cxPartialyMatched(p1,p2)"
   ]
  },
  {
   "cell_type": "code",
   "execution_count": 261,
   "metadata": {},
   "outputs": [],
   "source": [
    "# Function to execute the Genetic Algorithm\n",
    "# Takes number of iterations as input , default is 100\n",
    "# Returns the best path and the Progress showing the best path at each iteration \n",
    "def main(no_of_iterations=100):\n",
    "    inp=int(input(\"Use Default Graph(0 or 1)or or Enter a new Graph(2) :\"))\n",
    "    \n",
    "    Graph_matrix,vertices=graph_input(inp)\n",
    "    print(\"GRAPH MATRIX\")\n",
    "    print(Graph_matrix)\n",
    "    population_no = int(input(\"Enter the starting Population size : \"))\n",
    "    population=create_population(population_no,vertices)\n",
    "    print(\" The  Highest Fitness Value in the beginning is :\"+str(max_fitness(population,Graph_matrix)[0]))\n",
    "    overall_highest,itera=max_fitness(population,Graph_matrix)\n",
    "    best_path = population[itera]\n",
    "    prog=[]\n",
    "    for i in range(no_of_iterations):\n",
    "        np.random.shuffle(population)\n",
    "        parents=select_parents(population,Graph_matrix)\n",
    "        prents=[]\n",
    "\n",
    "        for j in parents:\n",
    "            prents.append(population[j])\n",
    "        pairs=make_random_pairs(parents,len(parents))\n",
    "        #print(pairs)\n",
    "        offsprings=[]\n",
    "        for pair in pairs:\n",
    "            off2 = crossover(population[pair[0]],population[pair[1]])\n",
    "            offsprings.append(off2)\n",
    "            #print(off2)\n",
    "            #offsprings_temp.append(off2)\n",
    "            \n",
    "        offsprings=np.asarray(offsprings)\n",
    "        offsprings=mutation(offsprings)\n",
    "        #print(\" Offsprings :\",offsprings)\n",
    "        #print(\" Parents : \",np.asarray(prents))\n",
    "        offsprings=np.concatenate((prents,offsprings),axis=0)\n",
    "        population=offsprings\n",
    "        max_value,ind=max_fitness(offsprings,Graph_matrix)\n",
    "        #print(max_value)\n",
    "        if max_value>overall_highest:\n",
    "            overall_highest,ind=max_fitness(offsprings,Graph_matrix)\n",
    "            itera=i\n",
    "            best_path=offsprings[ind]\n",
    "        prog.append(max_value)\n",
    "        #print(\" Population : \",population,\"\\n\")\n",
    "        print(\"Best Fitness Value at iteration \"+str(i+1)+\" is \"+str(max_value))\n",
    "        \n",
    "    print(\"\\nHIGHEST FITNESS OVERALL :\"+str(overall_highest)+\" AT ITERATION \"+str(itera+1))\n",
    "    return best_path,prog"
   ]
  },
  {
   "cell_type": "code",
   "execution_count": 265,
   "metadata": {},
   "outputs": [
    {
     "name": "stdout",
     "output_type": "stream",
     "text": [
      "Use Default Graph(0 or 1)or or Enter a new Graph(2) :1\n",
      "GRAPH MATRIX\n",
      "[[390 340 340 ... 110 510 290]\n",
      " [360  50 570 ... 130 170 210]\n",
      " [280 600 850 ... 690 490 100]\n",
      " ...\n",
      " [990 860 530 ... 150 340 890]\n",
      " [380 470 310 ... 950 990 600]\n",
      " [750 810 230 ... 780 950 360]]\n",
      "Enter the starting Population size : 1000\n",
      " The  Highest Fitness Value in the beginning is :2.7879310344827584\n",
      "Best Fitness Value at iteration 1 is 2.7879310344827584\n",
      "Best Fitness Value at iteration 2 is 2.7879310344827584\n",
      "Best Fitness Value at iteration 3 is 2.7879310344827584\n",
      "Best Fitness Value at iteration 4 is 2.7879310344827584\n",
      "Best Fitness Value at iteration 5 is 2.7879310344827584\n",
      "Best Fitness Value at iteration 6 is 2.7879310344827584\n",
      "Best Fitness Value at iteration 7 is 2.815438189204875\n",
      "Best Fitness Value at iteration 8 is 2.815438189204875\n",
      "Best Fitness Value at iteration 9 is 2.8335280373831777\n",
      "Best Fitness Value at iteration 10 is 2.8335280373831777\n",
      "Best Fitness Value at iteration 11 is 3.08\n",
      "Best Fitness Value at iteration 12 is 3.08\n",
      "Best Fitness Value at iteration 13 is 2.9742489270386265\n",
      "Best Fitness Value at iteration 14 is 3.02998126171143\n",
      "Best Fitness Value at iteration 15 is 3.02998126171143\n",
      "Best Fitness Value at iteration 16 is 3.02998126171143\n",
      "Best Fitness Value at iteration 17 is 2.976073619631902\n",
      "Best Fitness Value at iteration 18 is 3.078045685279188\n",
      "Best Fitness Value at iteration 19 is 3.311262798634812\n",
      "Best Fitness Value at iteration 20 is 3.311262798634812\n",
      "Best Fitness Value at iteration 21 is 3.311262798634812\n",
      "Best Fitness Value at iteration 22 is 3.311262798634812\n",
      "Best Fitness Value at iteration 23 is 3.311262798634812\n",
      "Best Fitness Value at iteration 24 is 3.311262798634812\n",
      "Best Fitness Value at iteration 25 is 3.311262798634812\n",
      "Best Fitness Value at iteration 26 is 3.311262798634812\n",
      "Best Fitness Value at iteration 27 is 3.311262798634812\n",
      "Best Fitness Value at iteration 28 is 3.311262798634812\n",
      "Best Fitness Value at iteration 29 is 3.311262798634812\n",
      "Best Fitness Value at iteration 30 is 3.311262798634812\n",
      "Best Fitness Value at iteration 31 is 3.4282685512367492\n",
      "Best Fitness Value at iteration 32 is 3.450213371266003\n",
      "Best Fitness Value at iteration 33 is 3.450213371266003\n",
      "Best Fitness Value at iteration 34 is 3.450213371266003\n",
      "Best Fitness Value at iteration 35 is 3.9471114727420664\n",
      "Best Fitness Value at iteration 36 is 3.9471114727420664\n",
      "Best Fitness Value at iteration 37 is 3.9471114727420664\n",
      "Best Fitness Value at iteration 38 is 3.9471114727420664\n",
      "Best Fitness Value at iteration 39 is 3.9471114727420664\n",
      "Best Fitness Value at iteration 40 is 3.9471114727420664\n",
      "Best Fitness Value at iteration 41 is 4.022388059701493\n",
      "Best Fitness Value at iteration 42 is 4.022388059701493\n",
      "Best Fitness Value at iteration 43 is 4.022388059701493\n",
      "Best Fitness Value at iteration 44 is 4.022388059701493\n",
      "Best Fitness Value at iteration 45 is 4.022388059701493\n",
      "Best Fitness Value at iteration 46 is 4.022388059701493\n",
      "Best Fitness Value at iteration 47 is 4.062814070351759\n",
      "Best Fitness Value at iteration 48 is 4.022388059701493\n",
      "Best Fitness Value at iteration 49 is 4.022388059701493\n",
      "Best Fitness Value at iteration 50 is 4.104060913705584\n",
      "Best Fitness Value at iteration 51 is 4.104060913705584\n",
      "Best Fitness Value at iteration 52 is 4.104060913705584\n",
      "Best Fitness Value at iteration 53 is 4.128510638297873\n",
      "Best Fitness Value at iteration 54 is 4.2\n",
      "Best Fitness Value at iteration 55 is 4.2\n",
      "Best Fitness Value at iteration 56 is 4.2\n",
      "Best Fitness Value at iteration 57 is 4.128510638297873\n",
      "Best Fitness Value at iteration 58 is 4.128510638297873\n",
      "Best Fitness Value at iteration 59 is 4.128510638297873\n",
      "Best Fitness Value at iteration 60 is 4.203639514731369\n",
      "Best Fitness Value at iteration 61 is 4.296722763507529\n",
      "Best Fitness Value at iteration 62 is 4.296722763507529\n",
      "Best Fitness Value at iteration 63 is 4.390045248868778\n",
      "Best Fitness Value at iteration 64 is 4.296722763507529\n",
      "Best Fitness Value at iteration 65 is 4.296722763507529\n",
      "Best Fitness Value at iteration 66 is 4.296722763507529\n",
      "Best Fitness Value at iteration 67 is 4.312\n",
      "Best Fitness Value at iteration 68 is 4.312\n",
      "Best Fitness Value at iteration 69 is 4.312\n",
      "Best Fitness Value at iteration 70 is 4.438243366880147\n",
      "Best Fitness Value at iteration 71 is 4.438243366880147\n",
      "Best Fitness Value at iteration 72 is 4.312\n",
      "Best Fitness Value at iteration 73 is 4.312\n",
      "Best Fitness Value at iteration 74 is 4.394021739130435\n",
      "Best Fitness Value at iteration 75 is 4.394021739130435\n",
      "Best Fitness Value at iteration 76 is 4.296722763507529\n",
      "Best Fitness Value at iteration 77 is 4.446379468377636\n",
      "Best Fitness Value at iteration 78 is 4.585066162570889\n",
      "Best Fitness Value at iteration 79 is 4.585066162570889\n",
      "Best Fitness Value at iteration 80 is 4.585066162570889\n",
      "Best Fitness Value at iteration 81 is 4.585066162570889\n",
      "Best Fitness Value at iteration 82 is 4.585066162570889\n",
      "Best Fitness Value at iteration 83 is 4.696030977734753\n",
      "Best Fitness Value at iteration 84 is 4.696030977734753\n",
      "Best Fitness Value at iteration 85 is 4.696030977734753\n",
      "Best Fitness Value at iteration 86 is 4.696030977734753\n",
      "Best Fitness Value at iteration 87 is 4.696030977734753\n",
      "Best Fitness Value at iteration 88 is 4.980492813141684\n",
      "Best Fitness Value at iteration 89 is 4.980492813141684\n",
      "Best Fitness Value at iteration 90 is 4.9958805355303815\n",
      "Best Fitness Value at iteration 91 is 5.138771186440678\n",
      "Best Fitness Value at iteration 92 is 5.138771186440678\n",
      "Best Fitness Value at iteration 93 is 5.138771186440678\n",
      "Best Fitness Value at iteration 94 is 5.138771186440678\n",
      "Best Fitness Value at iteration 95 is 5.138771186440678\n",
      "Best Fitness Value at iteration 96 is 5.138771186440678\n",
      "Best Fitness Value at iteration 97 is 5.138771186440678\n",
      "Best Fitness Value at iteration 98 is 5.138771186440678\n",
      "Best Fitness Value at iteration 99 is 5.138771186440678\n",
      "Best Fitness Value at iteration 100 is 5.138771186440678\n",
      "\n",
      "HIGHEST FITNESS OVERALL :5.138771186440678 AT ITERATION 91\n"
     ]
    }
   ],
   "source": [
    "best_p,prog=main()\n"
   ]
  },
  {
   "cell_type": "code",
   "execution_count": 271,
   "metadata": {},
   "outputs": [
    {
     "name": "stdout",
     "output_type": "stream",
     "text": [
      " Best Path is :  [35 28 13  8 47 27 43 38 49 17 40 34 48 11  2 22 42 10 21 18 45  9 20 31\n",
      "  1 16 19 25 14  7 36 37 32  5 30 39 23 12 29  3 15  0 44 41  6 26  4 46\n",
      " 33 24]\n"
     ]
    }
   ],
   "source": [
    "print(\" Best Path is : \",best_p)"
   ]
  },
  {
   "cell_type": "code",
   "execution_count": 270,
   "metadata": {},
   "outputs": [
    {
     "data": {
      "image/png": "[encoded data removed]",
      "text/plain": [
       "<Figure size 432x288 with 1 Axes>"
      ]
     },
     "metadata": {
      "needs_background": "light"
     },
     "output_type": "display_data"
    }
   ],
   "source": [
    "plt.plot(range(100),prog)\n",
    "plt.ylabel(\" Best Fitness Value\")\n",
    "plt.xlabel(\" No. of Iterations\")\n",
    "plt.show()"
   ]
  },
  {
   "cell_type": "code",
   "execution_count": null,
   "metadata": {},
   "outputs": [],
   "source": []
  }
 ],
 "metadata": {
  "kernelspec": {
   "display_name": "Python 3",
   "language": "python",
   "name": "python3"
  },
  "language_info": {
   "codemirror_mode": {
    "name": "ipython",
    "version": 3
   },
   "file_extension": ".py",
   "mimetype": "text/x-python",
   "name": "python",
   "nbconvert_exporter": "python",
   "pygments_lexer": "ipython3",
   "version": "3.7.3"
  }
 },
 "nbformat": 4,
 "nbformat_minor": 2
}
